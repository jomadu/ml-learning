{
 "nbformat": 4,
 "nbformat_minor": 2,
 "metadata": {
  "language_info": {
   "name": "python",
   "codemirror_mode": {
    "name": "ipython",
    "version": 3
   },
   "version": "3.6.9-final"
  },
  "orig_nbformat": 2,
  "file_extension": ".py",
  "mimetype": "text/x-python",
  "name": "python",
  "npconvert_exporter": "python",
  "pygments_lexer": "ipython3",
  "version": 3,
  "kernelspec": {
   "name": "python36964bitf5085a99d02d4cc7b58c3c3db0a401f4",
   "display_name": "Python 3.6.9 64-bit"
  }
 },
 "cells": [
  {
   "cell_type": "code",
   "execution_count": 1,
   "metadata": {},
   "outputs": [],
   "source": [
    "import numpy as np\n",
    "import matplotlib.pyplot as plt\n",
    "import pandas as pd"
   ]
  },
  {
   "cell_type": "code",
   "execution_count": 2,
   "metadata": {},
   "outputs": [],
   "source": [
    "# Importing dataset\n",
    "dataset = pd.read_csv('datasets/full.csv')"
   ]
  },
  {
   "cell_type": "code",
   "execution_count": 3,
   "metadata": {},
   "outputs": [],
   "source": [
    "# Separate dataset (X) and dependent vector (y)\n",
    "X = dataset.drop(columns=['Survived'])\n",
    "y = dataset.filter(items=['Survived'])"
   ]
  },
  {
   "cell_type": "code",
   "execution_count": 4,
   "metadata": {},
   "outputs": [],
   "source": [
    "# Handle Missing values\n",
    "## All Empty\n",
    "X.dropna(axis=0,thresh=1, inplace=True)\n",
    "X.reset_index(inplace=True)\n",
    "X.drop(['index'], axis=1, inplace=True)\n",
    "\n",
    "## Filling missing\n",
    "X.fillna(X.mean(), inplace=True)\n",
    "X['Embarked'].fillna(X['Embarked'].value_counts().index[0], inplace=True)\n",
    "X['Sex'].fillna(X['Sex'].value_counts().index[0], inplace=True)"
   ]
  },
  {
   "cell_type": "code",
   "execution_count": 5,
   "metadata": {},
   "outputs": [],
   "source": [
    "# Encode Categorical Data\n",
    "dummy_vars = ['Sex', 'Embarked']\n",
    "X_categorical = pd.get_dummies(X[dummy_vars])\n",
    "X = pd.concat([X_categorical, X.drop(dummy_vars, axis=1)], axis = 1, sort=False)"
   ]
  },
  {
   "cell_type": "code",
   "execution_count": 6,
   "metadata": {},
   "outputs": [],
   "source": [
    "# Splitting Training and Test Set\n",
    "from sklearn.model_selection import train_test_split\n",
    "X_train, X_test, y_train, y_test = train_test_split(X, y, test_size = 0.2, random_state = 0)"
   ]
  },
  {
   "cell_type": "code",
   "execution_count": 7,
   "metadata": {},
   "outputs": [],
   "source": [
    "# Feature Scaling\n",
    "from sklearn.preprocessing import StandardScaler\n",
    "ss_X = StandardScaler()\n",
    "\n",
    "unscalable_cols = ['PassengerId','Name', 'Ticket', 'Cabin']\n",
    "\n",
    "X_train_unscalable = X_train[unscalable_cols]\n",
    "X_train_scalable = X_train.drop(unscalable_cols, axis=1)\n",
    "X_train_scaled = ss_X.fit_transform(X_train_scalable)\n",
    "\n",
    "X_train = pd.concat([X_train_unscalable, X_train_scalable], axis=1, sort=False)\n",
    "\n",
    "X_test_unscalable = X_train[unscalable_cols]\n",
    "X_test_scalable = X_test.drop(unscalable_cols, axis=1)\n",
    "X_test_scaled = ss_X.transform(X_test_scalable)\n",
    "\n",
    "X_test = pd.concat([X_test_unscalable, X_test_scalable], axis=1, sort=False)"
   ]
  }
 ]
}