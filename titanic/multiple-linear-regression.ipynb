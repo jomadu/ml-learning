{
 "nbformat": 4,
 "nbformat_minor": 2,
 "metadata": {
  "language_info": {
   "name": "python",
   "codemirror_mode": {
    "name": "ipython",
    "version": 3
   },
   "version": "3.6.9-final"
  },
  "orig_nbformat": 2,
  "file_extension": ".py",
  "mimetype": "text/x-python",
  "name": "python",
  "npconvert_exporter": "python",
  "pygments_lexer": "ipython3",
  "version": 3,
  "kernelspec": {
   "name": "python36964bitenvvenve0b9c18c3ad345b987724f3a9266ddde",
   "display_name": "Python 3.6.9 64-bit ('env': venv)"
  }
 },
 "cells": [
  {
   "cell_type": "markdown",
   "metadata": {},
   "source": [
    "## Data Pre-Processing"
   ]
  },
  {
   "cell_type": "code",
   "execution_count": 42,
   "metadata": {},
   "outputs": [],
   "source": [
    "# Import modules\n",
    "import matplotlib.pyplot as plt\n",
    "import pandas as pd\n",
    "\n",
    "# Importing dataset\n",
    "dataset = pd.read_csv('datasets/full.csv')\n",
    "\n",
    "# Separate dataset (X) and dependent vector (y)\n",
    "X = dataset.drop(columns=['Survived'])\n",
    "y = dataset['Survived']\n",
    "\n",
    "# Drop unnecessary columns\n",
    "X.drop(columns=['PassengerId','Name', 'Ticket', 'Cabin'], inplace = True)\n",
    "\n",
    "# Handle Missing values\n",
    "## All Empty\n",
    "X.dropna(axis=0,thresh=1, inplace=True)\n",
    "X.reset_index(inplace=True)\n",
    "X.drop(['index'], axis=1, inplace=True)\n",
    "\n",
    "## Filling missing\n",
    "X.fillna(X.mean(), inplace=True)\n",
    "X['Embarked'].fillna(X['Embarked'].value_counts().index[0], inplace=True)\n",
    "X['Sex'].fillna(X['Sex'].value_counts().index[0], inplace=True)\n",
    "\n",
    "# Encode Categorical Data\n",
    "dummy_vars = ['Sex', 'Embarked']\n",
    "X_categorical = pd.get_dummies(X[dummy_vars])\n",
    "X = pd.concat([X_categorical, X.drop(dummy_vars, axis=1)], axis = 1, sort=False)\n",
    "\n",
    "# Avoiding the dummy variable trap\n",
    "X['Sex_male'].values[:] = 1 # set as constant to work with multiple linear regression\n",
    "X['Embarked_S'].values[:] = 1 # set as constant to work with multiple linear regression\n",
    "cols = X.columns.tolist()\n",
    "cols.insert(0, cols.pop(cols.index('Sex_male')))\n",
    "cols.insert(0, cols.pop(cols.index('Embarked_S')))\n",
    "X = X.reindex(columns=cols)\n",
    "\n",
    "# Splitting Training and Test Set\n",
    "from sklearn.model_selection import train_test_split\n",
    "X_train, X_test, y_train, y_test = train_test_split(X, y, test_size = 0.2, random_state = 0)\n",
    "\n",
    "# Feature Scaling\n",
    "from sklearn.preprocessing import StandardScaler\n",
    "ss_X = StandardScaler()\n",
    "\n",
    "cols_to_scale = ['Age', 'SibSp', 'Parch', 'Fare']\n",
    "\n",
    "X_train_scaling = X_train[cols_to_scale]\n",
    "X_test_scaling = X_test[cols_to_scale]\n",
    "\n",
    "X_train_not_scaling = X_train.drop(columns=cols_to_scale)\n",
    "X_test_not_scaling = X_test.drop(columns=cols_to_scale)\n",
    "\n",
    "X_train_scaled = pd.DataFrame(ss_X.fit_transform(X_train_scaling), columns=X_train_scaling.columns.values)\n",
    "X_test_scaled = pd.DataFrame(ss_X.transform(X_test_scaling), columns=X_train_scaling.columns.values)\n",
    "\n",
    "X_train = pd.concat([X_train_not_scaling, X_train_scaling], axis=1, sort=False)\n",
    "X_test = pd.concat([X_test_not_scaling, X_test_scaling], axis=1, sort=False)\n",
    ""
   ]
  },
  {
   "cell_type": "markdown",
   "metadata": {},
   "source": [
    "## Linear Regression"
   ]
  },
  {
   "cell_type": "markdown",
   "metadata": {},
   "source": [
    "### Multiple-Linear Regression"
   ]
  },
  {
   "cell_type": "code",
   "execution_count": 63,
   "metadata": {},
   "outputs": [
    {
     "output_type": "stream",
     "name": "stdout",
     "text": "--------------------------\nStarted backwardElimination:\n--------------------------\nRemoving Predictor: Parch\nRemoving Predictor: Embarked_Q\nRemoving Predictor: Embarked_C\nRemoving Predictor: Fare\nAll predictors pvalues < sl(0.05) ... Done\n                            OLS Regression Results                            \n==============================================================================\nDep. Variable:               Survived   R-squared:                       0.493\nModel:                            OLS   Adj. R-squared:                  0.491\nMethod:                 Least Squares   F-statistic:                     252.8\nDate:                Thu, 09 Apr 2020   Prob (F-statistic):          8.49e-152\nTime:                        21:42:36   Log-Likelihood:                -362.71\nNo. Observations:                1047   AIC:                             735.4\nDf Residuals:                    1042   BIC:                             760.2\nDf Model:                           4                                         \nCovariance Type:            nonrobust                                         \n==============================================================================\n                 coef    std err          t      P>|t|      [0.025      0.975]\n------------------------------------------------------------------------------\nEmbarked_S     0.2673      0.026     10.161      0.000       0.216       0.319\nSex_male       0.2673      0.026     10.161      0.000       0.216       0.319\nSex_female     0.6664      0.023     28.980      0.000       0.621       0.712\nPclass        -0.1144      0.014     -8.250      0.000      -0.142      -0.087\nAge           -0.0038      0.001     -4.236      0.000      -0.006      -0.002\nSibSp         -0.0325      0.011     -2.971      0.003      -0.054      -0.011\n==============================================================================\nOmnibus:                      108.509   Durbin-Watson:                   2.009\nProb(Omnibus):                  0.000   Jarque-Bera (JB):              207.986\nSkew:                           0.657   Prob(JB):                     6.86e-46\nKurtosis:                       4.745   Cond. No.                     1.35e+16\n==============================================================================\n\nWarnings:\n[1] Standard Errors assume that the covariance matrix of the errors is correctly specified.\n[2] The smallest eigenvalue is 6.16e-27. This might indicate that there are\nstrong multicollinearity problems or that the design matrix is singular.\n--------------------------\nEnded backwardElimination:\n--------------------------\nprediction accuracy: 87.0%\n"
    }
   ],
   "source": [
    "def backwardElimination(x, y, sl):\n",
    "    print('--------------------------')\n",
    "    print('Started backwardElimination:')\n",
    "    print('--------------------------')\n",
    "    num_vars = x.shape[1]\n",
    "    for i in range(0, num_vars):\n",
    "        # 2. Fit the model with all predictors, # 5. Fit the model without the highest P-value predictor\n",
    "        ols = lm.OLS(endog=y, exog= x).fit()\n",
    "        # print('After fit iteration: {}'.format(i))\n",
    "        # print(ols.summary())\n",
    "        # 3. Consider the predictor with the highest P-value, If P > SL, go to 4, otherwise done.\n",
    "        pvalues = ols.pvalues\n",
    "        max_var, max_val = 0, float('-inf')\n",
    "        for i in range(len(pvalues)):\n",
    "            if pvalues[i] > max_val:\n",
    "                max_var, max_val = x.columns[i], pvalues[i]\n",
    "        if max_val > sl:\n",
    "            # 4. Remove the predictor\n",
    "            print('Removing Predictor: {}'.format(max_var))\n",
    "            x = x.drop(columns=max_var)\n",
    "        else:\n",
    "            print('All predictors pvalues < sl({}) ... Done'.format(sl))\n",
    "            break\n",
    "    print(ols.summary())\n",
    "    print('--------------------------')\n",
    "    print('Ended backwardElimination:')\n",
    "    print('--------------------------')\n",
    "    return x\n",
    "\n",
    "# 1. Select a significance level to stay in the model --> SL = 0.05\n",
    "SL = 0.05\n",
    "X_train_be = backwardElimination(X_train, y_train, SL)\n",
    "X_test_be = X_test[X_train_be.columns.values]\n",
    "\n",
    "X_test_be.reset_index(inplace=True, drop=True)\n",
    "y_test.reset_index(inplace=True, drop=True)\n",
    "\n",
    "# Fitting Simple Linear Regression to the Training set\n",
    "from sklearn.linear_model import LinearRegression\n",
    "lr = LinearRegression()\n",
    "lr.fit(X_train_be, y_train)\n",
    "\n",
    "# Predicting the Test set results\n",
    "y_test_pred = pd.Series(lr.predict(X_test_be), name='Survived').round(0)\n",
    "\n",
    "# Determine Prediction Accuracy\n",
    "correct_count = 0\n",
    "for i in range(len(y_test)):\n",
    "    if y_test[i] == y_test_pred[i]:\n",
    "        correct_count += 1\n",
    "print('prediction accuracy: {}%'.format(100 * round(correct_count/ len(y_test),2)))\n"
   ]
  },
  {
   "cell_type": "code",
   "execution_count": null,
   "metadata": {},
   "outputs": [],
   "source": []
  }
 ]
}