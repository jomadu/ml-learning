{
 "nbformat": 4,
 "nbformat_minor": 2,
 "metadata": {
  "language_info": {
   "name": "python",
   "codemirror_mode": {
    "name": "ipython",
    "version": 3
   },
   "version": "3.6.9-final"
  },
  "orig_nbformat": 2,
  "file_extension": ".py",
  "mimetype": "text/x-python",
  "name": "python",
  "npconvert_exporter": "python",
  "pygments_lexer": "ipython3",
  "version": 3,
  "kernelspec": {
   "name": "python36964bitenvvenve0b9c18c3ad345b987724f3a9266ddde",
   "display_name": "Python 3.6.9 64-bit ('env': venv)"
  }
 },
 "cells": [
  {
   "cell_type": "code",
   "execution_count": 21,
   "metadata": {},
   "outputs": [],
   "source": [
    "import matplotlib.pyplot as plt\n",
    "import pandas as pd"
   ]
  },
  {
   "cell_type": "code",
   "execution_count": 22,
   "metadata": {},
   "outputs": [],
   "source": [
    "# Importing dataset\n",
    "dataset = pd.read_csv('datasets/data-preprocessing-data.csv')"
   ]
  },
  {
   "cell_type": "code",
   "execution_count": 23,
   "metadata": {},
   "outputs": [],
   "source": [
    "# Separate dataset (X) and dependent vector (y)\n",
    "X = dataset.drop(columns=['Purchased'])\n",
    "y = dataset.filter(items=['Purchased'])"
   ]
  },
  {
   "cell_type": "code",
   "execution_count": 24,
   "metadata": {},
   "outputs": [],
   "source": [
    "# Handle Missing values\n",
    "## All Empty\n",
    "X.dropna(axis=0,thresh=1, inplace=True)\n",
    "X.reset_index(inplace=True)\n",
    "X.drop(['index'], axis=1, inplace=True)\n",
    "\n",
    "## Filling missing\n",
    "X.fillna(X.mean(), inplace=True)\n",
    "X['Country'].fillna(X['Country'].value_counts().index[0], inplace=True)\n",
    ""
   ]
  },
  {
   "cell_type": "code",
   "execution_count": 25,
   "metadata": {},
   "outputs": [],
   "source": [
    "# Encode Categorical Data\n",
    "dummy_vars = ['Country']\n",
    "X_categorical = pd.get_dummies(X[dummy_vars])\n",
    "X = pd.concat([X_categorical, X.drop(columns=dummy_vars)], axis = 1, sort=False)\n",
    "\n",
    "y.replace({'Yes': 1, 'No': 0}, inplace=True)\n",
    ""
   ]
  },
  {
   "cell_type": "code",
   "execution_count": 26,
   "metadata": {},
   "outputs": [],
   "source": [
    "# Splitting Training and Test Set\n",
    "from sklearn.model_selection import train_test_split\n",
    "X_train, X_test, y_train, y_test = train_test_split(X, y, test_size = 0.2, random_state = 0)\n",
    ""
   ]
  },
  {
   "cell_type": "code",
   "execution_count": 27,
   "metadata": {},
   "outputs": [],
   "source": [
    "# Feature Scaling\n",
    "from sklearn.preprocessing import StandardScaler\n",
    "ss_X = StandardScaler()\n",
    "\n",
    "X_train= pd.DataFrame(ss_X.fit_transform(X_train), columns=X_train.columns.values)\n",
    "X_test = pd.DataFrame(ss_X.transform(X_test), columns=X_train.columns.values)"
   ]
  }
 ]
}