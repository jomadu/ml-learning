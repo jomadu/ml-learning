{
 "nbformat": 4,
 "nbformat_minor": 2,
 "metadata": {
  "language_info": {
   "name": "python",
   "codemirror_mode": {
    "name": "ipython",
    "version": 3
   },
   "version": "3.6.9-final"
  },
  "orig_nbformat": 2,
  "file_extension": ".py",
  "mimetype": "text/x-python",
  "name": "python",
  "npconvert_exporter": "python",
  "pygments_lexer": "ipython3",
  "version": 3,
  "kernelspec": {
   "name": "python36964bitenvvenve0b9c18c3ad345b987724f3a9266ddde",
   "display_name": "Python 3.6.9 64-bit ('env': venv)"
  }
 },
 "cells": [
  {
   "cell_type": "markdown",
   "metadata": {},
   "source": [
    "## Data Pre-Processing"
   ]
  },
  {
   "cell_type": "code",
   "execution_count": 12,
   "metadata": {},
   "outputs": [],
   "source": [
    "# Import modules\n",
    "import matplotlib.pyplot as plt\n",
    "import pandas as pd\n",
    "\n",
    "# Import dataset\n",
    "dataset = pd.read_csv('datasets/multiple-linear-regression-data.csv')\n",
    "\n",
    "# Separate dataset (X) and dependent vector (y)\n",
    "X = dataset.drop(columns=['Profit'])\n",
    "y = dataset.filter(items=['Profit'])\n",
    "\n",
    "# Encode Categorical Data\n",
    "dummy_vars = ['State']\n",
    "X_categorical = pd.get_dummies(X[dummy_vars])\n",
    "X = pd.concat([X_categorical, X.drop(columns=dummy_vars)], axis = 1, sort=False)\n",
    "\n",
    "# Avoiding the dummy variable trap\n",
    "X.drop(columns=['State_California'], inplace=True)\n",
    "\n",
    "# Splitting Training and Test Set\n",
    "from sklearn.model_selection import train_test_split\n",
    "X_train, X_test, y_train, y_test = train_test_split(X, y, test_size = 0.2, random_state = 0)"
   ]
  },
  {
   "cell_type": "markdown",
   "metadata": {},
   "source": [
    "## Multiple Linear Regression"
   ]
  },
  {
   "cell_type": "code",
   "execution_count": 14,
   "metadata": {},
   "outputs": [],
   "source": [
    "# Fitting Simple Linear Regression to the Training set\n",
    "from sklearn.linear_model import LinearRegression\n",
    "lr = LinearRegression()\n",
    "lr.fit(X_train, y_train)\n",
    "\n",
    "# Predicting the Test set results\n",
    "y_pred = pd.DataFrame(lr.predict(X_test), columns=y_train.columns.values)"
   ]
  },
  {
   "cell_type": "markdown",
   "metadata": {},
   "source": [
    "## Comparing Predictions"
   ]
  },
  {
   "cell_type": "code",
   "execution_count": 17,
   "metadata": {},
   "outputs": [
    {
     "output_type": "stream",
     "name": "stdout",
     "text": "error:  267.17840203578817\nerror:  11677.122391842597\nerror:  13674.211548250518\nerror:  5822.7314874140575\nerror:  12512.907789456425\nerror:  -11152.932301633817\nerror:  13377.36790324049\nerror:  -1308.1737468803622\nerror:  -3617.185330116641\nerror:  -1733.1256955016288\n"
    }
   ],
   "source": [
    "for i in range(len(y_pred['Profit'])):\n",
    "    error = y_test['Profit'].values[i] - y_pred['Profit'].values[i]"
   ]
  }
 ]
}