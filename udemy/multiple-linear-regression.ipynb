{
 "nbformat": 4,
 "nbformat_minor": 2,
 "metadata": {
  "language_info": {
   "name": "python",
   "codemirror_mode": {
    "name": "ipython",
    "version": 3
   },
   "version": "3.6.9-final"
  },
  "orig_nbformat": 2,
  "file_extension": ".py",
  "mimetype": "text/x-python",
  "name": "python",
  "npconvert_exporter": "python",
  "pygments_lexer": "ipython3",
  "version": 3,
  "kernelspec": {
   "name": "python36964bitenvvenve0b9c18c3ad345b987724f3a9266ddde",
   "display_name": "Python 3.6.9 64-bit ('env': venv)"
  }
 },
 "cells": [
  {
   "cell_type": "markdown",
   "metadata": {},
   "source": [
    "## Data Pre-Processing"
   ],
   "execution_count": null,
   "outputs": []
  },
  {
   "cell_type": "code",
   "execution_count": null,
   "metadata": {},
   "outputs": [],
   "source": [
    "# Import modules\n",
    "import matplotlib.pyplot as plt\n",
    "import pandas as pd\n",
    "import numpy as np\n",
    "\n",
    "# Import dataset\n",
    "dataset = pd.read_csv('datasets/multiple-linear-regression-data.csv')\n",
    "\n",
    "# Separate dataset (X) and dependent vector (y)\n",
    "X = dataset.drop(columns=['Profit'])\n",
    "y = dataset.filter(items=['Profit'])\n",
    "\n",
    "# Encode Categorical Data\n",
    "dummy_vars = ['State']\n",
    "X_categorical = pd.get_dummies(X[dummy_vars])\n",
    "X = pd.concat([X_categorical, X.drop(columns=dummy_vars)], axis = 1, sort=False)\n",
    "\n",
    "# Avoiding the dummy variable trap\n",
    "# X.drop(columns=['State_California'], inplace=True)\n",
    "X['State_California'].values[:] = 1 # set as constant to work with multiple linear regression\n",
    "cols = X.columns.tolist()\n",
    "cols.insert(0, cols.pop(cols.index('State_California')))\n",
    "\n",
    "X = X.reindex(columns=cols)\n",
    "\n",
    "# Splitting Training and Test Set\n",
    "from sklearn.model_selection import train_test_split\n",
    "X_train, X_test, y_train, y_test = train_test_split(X, y, test_size = 0.2, random_state = 0)"
   ]
  },
  {
   "cell_type": "markdown",
   "metadata": {},
   "source": [
    "## Multiple Linear Regression"
   ],
   "execution_count": null,
   "outputs": []
  },
  {
   "cell_type": "markdown",
   "metadata": {},
   "source": [
    "### Naive All-In Method"
   ],
   "execution_count": null,
   "outputs": []
  },
  {
   "cell_type": "code",
   "execution_count": null,
   "metadata": {},
   "outputs": [],
   "source": [
    "# from sklearn.linear_model import LinearRegression\n",
    "# lr = LinearRegression()\n",
    "# lr.fit(X_train, y_train)\n",
    "\n",
    "# # Predicting the Test set results\n",
    "# y_pred = pd.DataFrame(lr.predict(X_test), columns=y_train.columns.values)"
   ]
  },
  {
   "cell_type": "markdown",
   "metadata": {},
   "source": [
    "### Backward Elimination Method"
   ],
   "execution_count": null,
   "outputs": []
  },
  {
   "cell_type": "code",
   "execution_count": null,
   "metadata": {},
   "outputs": [],
   "source": [
    "\n",
    "# Building and optimal model using Backward Elimination\n",
    "import statsmodels.regression.linear_model as lm\n",
    "\n",
    "def backwardElimination(x, sl):\n",
    "    num_vars = x.shape[1]\n",
    "    for i in range(0, num_vars):\n",
    "        # 2. Fit the model with all predictors, # 5. Fit the model without the highest P-value predictor\n",
    "        ols = lm.OLS(endog=y, exog= x).fit()\n",
    "        # 3. Consider the predictor with the highest P-value, If P > SL, go to 4, otherwise done.\n",
    "        pvalues = ols.pvalues\n",
    "        max_var, max_val = 0, float('-inf')\n",
    "        for i in range(len(pvalues)):\n",
    "            if pvalues[i] > max_val:\n",
    "                max_var, max_val = x.columns[i], pvalues[i]\n",
    "        print(ols.summary())\n",
    "        if max_val > sl:\n",
    "            # 4. Remove the predictor\n",
    "            print('Removing {}'.format(max_var))\n",
    "            x = x.drop(columns=max_var)\n",
    "        else:\n",
    "            break\n",
    "    print(ols.summary())\n",
    "    return x\n",
    "\n",
    "# 1. Select a significance level to stay in the model --> SL = 0.05\n",
    "SL = 0.05\n",
    "X_opt = X\n",
    "X_modeled = backwardElimination(X_opt, SL)"
   ]
  }
 ]
}