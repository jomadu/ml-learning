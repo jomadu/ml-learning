{
 "nbformat": 4,
 "nbformat_minor": 2,
 "metadata": {
  "language_info": {
   "name": "python",
   "codemirror_mode": {
    "name": "ipython",
    "version": 3
   },
   "version": "3.6.9-final"
  },
  "orig_nbformat": 2,
  "file_extension": ".py",
  "mimetype": "text/x-python",
  "name": "python",
  "npconvert_exporter": "python",
  "pygments_lexer": "ipython3",
  "version": 3,
  "kernelspec": {
   "name": "python36964bitenvvenve0b9c18c3ad345b987724f3a9266ddde",
   "display_name": "Python 3.6.9 64-bit ('env': venv)"
  }
 },
 "cells": [
  {
   "cell_type": "markdown",
   "metadata": {},
   "source": [
    "## Data Pre-Processing"
   ],
   "execution_count": null,
   "outputs": []
  },
  {
   "cell_type": "code",
   "execution_count": 2,
   "metadata": {},
   "outputs": [],
   "source": [
    "# Import modules\n",
    "import matplotlib.pyplot as plt\n",
    "import pandas as pd\n",
    "import numpy as np\n",
    "\n",
    "# Import dataset\n",
    "dataset = pd.read_csv('datasets/multiple-linear-regression-data.csv')\n",
    "\n",
    "# Separate dataset (X) and dependent vector (y)\n",
    "X = dataset.drop(columns=['Profit'])\n",
    "y = dataset.filter(items=['Profit'])\n",
    "\n",
    "# Encode Categorical Data\n",
    "dummy_vars = ['State']\n",
    "X_categorical = pd.get_dummies(X[dummy_vars])\n",
    "X = pd.concat([X_categorical, X.drop(columns=dummy_vars)], axis = 1, sort=False)\n",
    "\n",
    "# Avoiding the dummy variable trap\n",
    "# X.drop(columns=['State_California'], inplace=True)\n",
    "X['State_California'].values[:] = 1 # set as constant to work with multiple linear regression\n",
    "cols = X.columns.tolist()\n",
    "cols.insert(0, cols.pop(cols.index('State_California')))\n",
    "\n",
    "X = X.reindex(columns=cols)\n",
    "\n",
    "# Splitting Training and Test Set\n",
    "from sklearn.model_selection import train_test_split\n",
    "X_train, X_test, y_train, y_test = train_test_split(X, y, test_size = 0.2, random_state = 0)"
   ]
  },
  {
   "cell_type": "markdown",
   "metadata": {},
   "source": [
    "## Multiple Linear Regression"
   ],
   "execution_count": null,
   "outputs": []
  },
  {
   "cell_type": "markdown",
   "metadata": {},
   "source": [
    "### Naive All-In Method"
   ],
   "execution_count": null,
   "outputs": []
  },
  {
   "cell_type": "code",
   "execution_count": 3,
   "metadata": {},
   "outputs": [],
   "source": [
    "# from sklearn.linear_model import LinearRegression\n",
    "# lr = LinearRegression()\n",
    "# lr.fit(X_train, y_train)\n",
    "\n",
    "# # Predicting the Test set results\n",
    "# y_pred = pd.DataFrame(lr.predict(X_test), columns=y_train.columns.values)"
   ]
  },
  {
   "cell_type": "markdown",
   "metadata": {},
   "source": [
    "### Backward Elimination Method"
   ]
  },
  {
   "cell_type": "code",
   "execution_count": 6,
   "metadata": {},
   "outputs": [
    {
     "output_type": "stream",
     "name": "stdout",
     "text": "Started backwardElimination:\n--------------------------\nAfter iteration: 0\n                            OLS Regression Results                            \n==============================================================================\nDep. Variable:                 Profit   R-squared:                       0.951\nModel:                            OLS   Adj. R-squared:                  0.945\nMethod:                 Least Squares   F-statistic:                     169.9\nDate:                Thu, 09 Apr 2020   Prob (F-statistic):           1.34e-27\nTime:                        17:29:19   Log-Likelihood:                -525.38\nNo. Observations:                  50   AIC:                             1063.\nDf Residuals:                      44   BIC:                             1074.\nDf Model:                           5                                         \nCovariance Type:            nonrobust                                         \n====================================================================================\n                       coef    std err          t      P>|t|      [0.025      0.975]\n------------------------------------------------------------------------------------\nState_California  5.013e+04   6884.820      7.281      0.000    3.62e+04     6.4e+04\nState_Florida      198.7888   3371.007      0.059      0.953   -6595.030    6992.607\nState_New York     -41.8870   3256.039     -0.013      0.990   -6604.003    6520.229\nR&D Spend            0.8060      0.046     17.369      0.000       0.712       0.900\nAdministration      -0.0270      0.052     -0.517      0.608      -0.132       0.078\nMarketing Spend      0.0270      0.017      1.574      0.123      -0.008       0.062\n==============================================================================\nOmnibus:                       14.782   Durbin-Watson:                   1.283\nProb(Omnibus):                  0.001   Jarque-Bera (JB):               21.266\nSkew:                          -0.948   Prob(JB):                     2.41e-05\nKurtosis:                       5.572   Cond. No.                     1.45e+06\n==============================================================================\n\nWarnings:\n[1] Standard Errors assume that the covariance matrix of the errors is correctly specified.\n[2] The condition number is large, 1.45e+06. This might indicate that there are\nstrong multicollinearity or other numerical problems.\nRemoving Predictor: State_New York\nAfter iteration: 1\n                            OLS Regression Results                            \n==============================================================================\nDep. Variable:                 Profit   R-squared:                       0.951\nModel:                            OLS   Adj. R-squared:                  0.946\nMethod:                 Least Squares   F-statistic:                     217.2\nDate:                Thu, 09 Apr 2020   Prob (F-statistic):           8.49e-29\nTime:                        17:29:19   Log-Likelihood:                -525.38\nNo. Observations:                  50   AIC:                             1061.\nDf Residuals:                      45   BIC:                             1070.\nDf Model:                           4                                         \nCovariance Type:            nonrobust                                         \n====================================================================================\n                       coef    std err          t      P>|t|      [0.025      0.975]\n------------------------------------------------------------------------------------\nState_California  5.011e+04   6647.870      7.537      0.000    3.67e+04    6.35e+04\nState_Florida      220.1585   2900.536      0.076      0.940   -5621.821    6062.138\nR&D Spend            0.8060      0.046     17.606      0.000       0.714       0.898\nAdministration      -0.0270      0.052     -0.523      0.604      -0.131       0.077\nMarketing Spend      0.0270      0.017      1.592      0.118      -0.007       0.061\n==============================================================================\nOmnibus:                       14.758   Durbin-Watson:                   1.282\nProb(Omnibus):                  0.001   Jarque-Bera (JB):               21.172\nSkew:                          -0.948   Prob(JB):                     2.53e-05\nKurtosis:                       5.563   Cond. No.                     1.40e+06\n==============================================================================\n\nWarnings:\n[1] Standard Errors assume that the covariance matrix of the errors is correctly specified.\n[2] The condition number is large, 1.4e+06. This might indicate that there are\nstrong multicollinearity or other numerical problems.\nRemoving Predictor: State_Florida\nAfter iteration: 2\n                            OLS Regression Results                            \n==============================================================================\nDep. Variable:                 Profit   R-squared:                       0.951\nModel:                            OLS   Adj. R-squared:                  0.948\nMethod:                 Least Squares   F-statistic:                     296.0\nDate:                Thu, 09 Apr 2020   Prob (F-statistic):           4.53e-30\nTime:                        17:29:19   Log-Likelihood:                -525.39\nNo. Observations:                  50   AIC:                             1059.\nDf Residuals:                      46   BIC:                             1066.\nDf Model:                           3                                         \nCovariance Type:            nonrobust                                         \n====================================================================================\n                       coef    std err          t      P>|t|      [0.025      0.975]\n------------------------------------------------------------------------------------\nState_California  5.012e+04   6572.353      7.626      0.000    3.69e+04    6.34e+04\nR&D Spend            0.8057      0.045     17.846      0.000       0.715       0.897\nAdministration      -0.0268      0.051     -0.526      0.602      -0.130       0.076\nMarketing Spend      0.0272      0.016      1.655      0.105      -0.006       0.060\n==============================================================================\nOmnibus:                       14.838   Durbin-Watson:                   1.282\nProb(Omnibus):                  0.001   Jarque-Bera (JB):               21.442\nSkew:                          -0.949   Prob(JB):                     2.21e-05\nKurtosis:                       5.586   Cond. No.                     1.40e+06\n==============================================================================\n\nWarnings:\n[1] Standard Errors assume that the covariance matrix of the errors is correctly specified.\n[2] The condition number is large, 1.4e+06. This might indicate that there are\nstrong multicollinearity or other numerical problems.\nRemoving Predictor: Administration\nAfter iteration: 3\n                            OLS Regression Results                            \n==============================================================================\nDep. Variable:                 Profit   R-squared:                       0.950\nModel:                            OLS   Adj. R-squared:                  0.948\nMethod:                 Least Squares   F-statistic:                     450.8\nDate:                Thu, 09 Apr 2020   Prob (F-statistic):           2.16e-31\nTime:                        17:29:19   Log-Likelihood:                -525.54\nNo. Observations:                  50   AIC:                             1057.\nDf Residuals:                      47   BIC:                             1063.\nDf Model:                           2                                         \nCovariance Type:            nonrobust                                         \n====================================================================================\n                       coef    std err          t      P>|t|      [0.025      0.975]\n------------------------------------------------------------------------------------\nState_California  4.698e+04   2689.933     17.464      0.000    4.16e+04    5.24e+04\nR&D Spend            0.7966      0.041     19.266      0.000       0.713       0.880\nMarketing Spend      0.0299      0.016      1.927      0.060      -0.001       0.061\n==============================================================================\nOmnibus:                       14.677   Durbin-Watson:                   1.257\nProb(Omnibus):                  0.001   Jarque-Bera (JB):               21.161\nSkew:                          -0.939   Prob(JB):                     2.54e-05\nKurtosis:                       5.575   Cond. No.                     5.32e+05\n==============================================================================\n\nWarnings:\n[1] Standard Errors assume that the covariance matrix of the errors is correctly specified.\n[2] The condition number is large, 5.32e+05. This might indicate that there are\nstrong multicollinearity or other numerical problems.\nRemoving Predictor: Marketing Spend\nAfter iteration: 4\n                            OLS Regression Results                            \n==============================================================================\nDep. Variable:                 Profit   R-squared:                       0.947\nModel:                            OLS   Adj. R-squared:                  0.945\nMethod:                 Least Squares   F-statistic:                     849.8\nDate:                Thu, 09 Apr 2020   Prob (F-statistic):           3.50e-32\nTime:                        17:29:19   Log-Likelihood:                -527.44\nNo. Observations:                  50   AIC:                             1059.\nDf Residuals:                      48   BIC:                             1063.\nDf Model:                           1                                         \nCovariance Type:            nonrobust                                         \n====================================================================================\n                       coef    std err          t      P>|t|      [0.025      0.975]\n------------------------------------------------------------------------------------\nState_California  4.903e+04   2537.897     19.320      0.000    4.39e+04    5.41e+04\nR&D Spend            0.8543      0.029     29.151      0.000       0.795       0.913\n==============================================================================\nOmnibus:                       13.727   Durbin-Watson:                   1.116\nProb(Omnibus):                  0.001   Jarque-Bera (JB):               18.536\nSkew:                          -0.911   Prob(JB):                     9.44e-05\nKurtosis:                       5.361   Cond. No.                     1.65e+05\n==============================================================================\n\nWarnings:\n[1] Standard Errors assume that the covariance matrix of the errors is correctly specified.\n[2] The condition number is large, 1.65e+05. This might indicate that there are\nstrong multicollinearity or other numerical problems.\nAll predictors pvalues < sl(0.05) ... Done\n                            OLS Regression Results                            \n==============================================================================\nDep. Variable:                 Profit   R-squared:                       0.947\nModel:                            OLS   Adj. R-squared:                  0.945\nMethod:                 Least Squares   F-statistic:                     849.8\nDate:                Thu, 09 Apr 2020   Prob (F-statistic):           3.50e-32\nTime:                        17:29:19   Log-Likelihood:                -527.44\nNo. Observations:                  50   AIC:                             1059.\nDf Residuals:                      48   BIC:                             1063.\nDf Model:                           1                                         \nCovariance Type:            nonrobust                                         \n====================================================================================\n                       coef    std err          t      P>|t|      [0.025      0.975]\n------------------------------------------------------------------------------------\nState_California  4.903e+04   2537.897     19.320      0.000    4.39e+04    5.41e+04\nR&D Spend            0.8543      0.029     29.151      0.000       0.795       0.913\n==============================================================================\nOmnibus:                       13.727   Durbin-Watson:                   1.116\nProb(Omnibus):                  0.001   Jarque-Bera (JB):               18.536\nSkew:                          -0.911   Prob(JB):                     9.44e-05\nKurtosis:                       5.361   Cond. No.                     1.65e+05\n==============================================================================\n\nWarnings:\n[1] Standard Errors assume that the covariance matrix of the errors is correctly specified.\n[2] The condition number is large, 1.65e+05. This might indicate that there are\nstrong multicollinearity or other numerical problems.\nEnded backwardElimination:\n--------------------------\n"
    }
   ],
   "source": [
    "\n",
    "# Building and optimal model using Backward Elimination\n",
    "import statsmodels.regression.linear_model as lm\n",
    "\n",
    "def backwardElimination(x, y, sl):\n",
    "    print('Started backwardElimination:')\n",
    "    print('--------------------------')\n",
    "    num_vars = x.shape[1]\n",
    "    for i in range(0, num_vars):\n",
    "        # 2. Fit the model with all predictors, # 5. Fit the model without the highest P-value predictor\n",
    "        ols = lm.OLS(endog=y, exog= x).fit()\n",
    "        print('After fit iteration: {}'.format(i))\n",
    "        print(ols.summary())\n",
    "        # 3. Consider the predictor with the highest P-value, If P > SL, go to 4, otherwise done.\n",
    "        pvalues = ols.pvalues\n",
    "        max_var, max_val = 0, float('-inf')\n",
    "        for i in range(len(pvalues)):\n",
    "            if pvalues[i] > max_val:\n",
    "                max_var, max_val = x.columns[i], pvalues[i]\n",
    "        if max_val > sl:\n",
    "            # 4. Remove the predictor\n",
    "            print('Removing Predictor: {}'.format(max_var))\n",
    "            x = x.drop(columns=max_var)\n",
    "        else:\n",
    "            print('All predictors pvalues < sl({}) ... Done'.format(sl))\n",
    "            break\n",
    "    print(ols.summary())\n",
    "    print('Ended backwardElimination:')\n",
    "    print('--------------------------')\n",
    "    return x\n",
    "\n",
    "# 1. Select a significance level to stay in the model --> SL = 0.05\n",
    "SL = 0.05\n",
    "X_opt = X\n",
    "X_modeled = backwardElimination(X, y, SL)"
   ]
  },
  {
   "cell_type": "code",
   "execution_count": null,
   "metadata": {},
   "outputs": [],
   "source": []
  }
 ]
}